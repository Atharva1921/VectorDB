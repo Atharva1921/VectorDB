{
 "cells": [
  {
   "cell_type": "code",
   "execution_count": 2,
   "metadata": {},
   "outputs": [
    {
     "name": "stderr",
     "output_type": "stream",
     "text": [
      "c:\\Users\\Admin\\anaconda3\\envs\\py310\\lib\\site-packages\\sentence_transformers\\cross_encoder\\CrossEncoder.py:11: TqdmExperimentalWarning: Using `tqdm.autonotebook.tqdm` in notebook mode. Use `tqdm.tqdm` instead to force console mode (e.g. in jupyter console)\n",
      "  from tqdm.autonotebook import tqdm, trange\n"
     ]
    }
   ],
   "source": [
    "import pandas as pd\n",
    "import numpy as np\n",
    "from langchain_community.document_loaders import PyPDFLoader\n",
    "from langchain_text_splitters import RecursiveCharacterTextSplitter\n",
    "from sentence_transformers import SentenceTransformer\n",
    "from langchain_community.llms import Ollama\n",
    "from langchain_community.chat_models import ChatOllama\n",
    "from langchain_core.prompts import ChatPromptTemplate\n",
    "from langchain_core.output_parsers import StrOutputParser\n",
    "\n",
    "import streamlit as st\n"
   ]
  },
  {
   "cell_type": "code",
   "execution_count": 2,
   "metadata": {},
   "outputs": [
    {
     "name": "stdout",
     "output_type": "stream",
     "text": [
      "[Document(metadata={'source': 'sample.pdf', 'page': 0}, page_content='C H A R L E S  M C T U R L A N D\\nS O F T W A R E  E N G I N E E R\\nC O N T A C T\\ncmcturland@email.com\\n(123) 456-7890\\nNew York, NY\\nLinkedIn\\nE D U C A T I O N\\nB.S.\\nComputer Science\\nUniversity of Pittsburgh\\nSeptember 2008 - April 2012\\nPittsburgh, PA\\nS K I L L S\\nPython (Django)\\nJavascript (NodeJS ReactJS,\\njQuery)\\nSQL (MySQL, PostgreSQL,\\nNoSQL)\\nHTML5/CSS\\nAWS\\nUnix, GitW O R K  E X P E R I E N C E\\nSoftware Engineer\\nEmbark\\nJanuary 2015 - current/New York, NY\\nWorked with product managers to re-architect a multi-page web\\napp into a single page web-app, boosting yearly revenue by $1.4M\\nConstructed the logic for a streamlined ad-serving platform that\\nscaled to our 35M users, which improved the page speed by 15%\\nafter implementation\\nTested software for bugs and operating speed, ﬁxing bugs and\\ndocumenting processes to increase efﬁciency by 18%\\nIterated platform for college admissions, collaborating with a group\\nof 4 engineers to create features across the software\\nSoftware Engineer\\nMarketSmart\\nApril 2012 - January 2015/Washington, DC\\nBuilt RESTful APIs that served data to the JavaScript front-end\\nbased on dynamically chosen user inputs that handled over 500,000\\nconcurrent users\\nBuilt internal tool using NodeJS and Pupeteer.js to automate QA and\\nmonitoring of donor-facing web app, which improved CTR by 3%\\nReviewed code and conducted testing for 3 additional features on\\ndonor-facing web app that increased contributions by 12%\\nSoftware Engineer Intern\\nMarketing Science Company\\nApril 2011 - March 2012/Pittsburgh, PA\\nPartnered with a developer to implement RESTful APIs in Django,\\nenabling analytics team to increase reporting speed by 24%\\nUsing Selenium I built out a unit testing infrastructure for a client\\napplication that reduced the number of bugs reported by the client\\nby 11% month over month\\nP R O J E C T S\\nPoker Simulation\\nBuilt a full-stack web app to allow users to simulate and visualize\\noutcomes of poker hands against opponents of different play styles\\nusing open source cards.js on the front-end\\nUtilized sci-kit learn in Python to simulate possible outcomes under\\ndifferent scenarios that the user chose')]\n"
     ]
    }
   ],
   "source": [
    "# reader = PdfReader(\"sample.pdf\")\n",
    "# number_of_pages = len(reader.pages)\n",
    "# page = reader.pages[0]\n",
    "# text = page.extract_text()\n",
    "# print(text)\n",
    "\n",
    "fileName = \"sample.pdf\"\n",
    "\n",
    "def readPDF(name):\n",
    "\n",
    "    loader = PyPDFLoader(name)\n",
    "    pages = loader.load_and_split()\n",
    "    return pages\n",
    "\n",
    "document = readPDF(fileName)\n",
    "print(document)"
   ]
  },
  {
   "cell_type": "code",
   "execution_count": 3,
   "metadata": {},
   "outputs": [
    {
     "data": {
      "text/plain": [
       "[Document(metadata={'source': 'sample.pdf', 'page': 0}, page_content='C H A R L E S  M C T U R L A N D\\nS O F T W A R E  E N G I N E E R\\nC O N T A C T\\ncmcturland@email.com\\n(123) 456-7890\\nNew York, NY\\nLinkedIn\\nE D U C A T I O N\\nB.S.\\nComputer Science\\nUniversity of Pittsburgh\\nSeptember 2008 - April 2012\\nPittsburgh, PA\\nS K I L L S\\nPython (Django)\\nJavascript (NodeJS ReactJS,\\njQuery)\\nSQL (MySQL, PostgreSQL,\\nNoSQL)\\nHTML5/CSS\\nAWS\\nUnix, GitW O R K  E X P E R I E N C E\\nSoftware Engineer\\nEmbark\\nJanuary 2015 - current/New York, NY\\nWorked with product managers to re-architect a multi-page web\\napp into a single page web-app, boosting yearly revenue by $1.4M\\nConstructed the logic for a streamlined ad-serving platform that\\nscaled to our 35M users, which improved the page speed by 15%\\nafter implementation\\nTested software for bugs and operating speed, ﬁxing bugs and\\ndocumenting processes to increase efﬁciency by 18%\\nIterated platform for college admissions, collaborating with a group\\nof 4 engineers to create features across the software\\nSoftware Engineer\\nMarketSmart'),\n",
       " Document(metadata={'source': 'sample.pdf', 'page': 0}, page_content='of 4 engineers to create features across the software\\nSoftware Engineer\\nMarketSmart\\nApril 2012 - January 2015/Washington, DC\\nBuilt RESTful APIs that served data to the JavaScript front-end\\nbased on dynamically chosen user inputs that handled over 500,000\\nconcurrent users\\nBuilt internal tool using NodeJS and Pupeteer.js to automate QA and\\nmonitoring of donor-facing web app, which improved CTR by 3%\\nReviewed code and conducted testing for 3 additional features on\\ndonor-facing web app that increased contributions by 12%\\nSoftware Engineer Intern\\nMarketing Science Company\\nApril 2011 - March 2012/Pittsburgh, PA\\nPartnered with a developer to implement RESTful APIs in Django,\\nenabling analytics team to increase reporting speed by 24%\\nUsing Selenium I built out a unit testing infrastructure for a client\\napplication that reduced the number of bugs reported by the client\\nby 11% month over month\\nP R O J E C T S\\nPoker Simulation\\nBuilt a full-stack web app to allow users to simulate and visualize'),\n",
       " Document(metadata={'source': 'sample.pdf', 'page': 0}, page_content='Poker Simulation\\nBuilt a full-stack web app to allow users to simulate and visualize\\noutcomes of poker hands against opponents of different play styles\\nusing open source cards.js on the front-end\\nUtilized sci-kit learn in Python to simulate possible outcomes under\\ndifferent scenarios that the user chose')]"
      ]
     },
     "execution_count": 3,
     "metadata": {},
     "output_type": "execute_result"
    }
   ],
   "source": [
    "def chunk_data(doc,chunk_size,chunk_overlap):\n",
    "    text_splitter = RecursiveCharacterTextSplitter(chunk_size=chunk_size,chunk_overlap=chunk_overlap)\n",
    "    chunks = text_splitter.split_documents(doc)\n",
    "    return chunks\n",
    "\n",
    "#chuncks is list which has objects in document type\n",
    "chuncks = chunk_data(document,1000,100)\n",
    "chuncks"
   ]
  },
  {
   "cell_type": "code",
   "execution_count": 4,
   "metadata": {},
   "outputs": [
    {
     "name": "stderr",
     "output_type": "stream",
     "text": [
      "c:\\Users\\Admin\\anaconda3\\envs\\py310\\lib\\site-packages\\huggingface_hub\\file_download.py:1132: FutureWarning: `resume_download` is deprecated and will be removed in version 1.0.0. Downloads always resume when possible. If you want to force a new download, use `force_download=True`.\n",
      "  warnings.warn(\n"
     ]
    },
    {
     "data": {
      "text/plain": [
       "3"
      ]
     },
     "execution_count": 4,
     "metadata": {},
     "output_type": "execute_result"
    }
   ],
   "source": [
    "#generate embeddings\n",
    "\n",
    "model = SentenceTransformer('all-mpnet-base-v2')\n",
    "\n",
    "def generateEmbeddings(model,chuncks):\n",
    "\n",
    "    list_embeddings = []\n",
    "\n",
    "    for item in chuncks:\n",
    "        embedding = model.encode(item.page_content)\n",
    "        list_embeddings.append(embedding)\n",
    "\n",
    "    return list_embeddings\n",
    "\n",
    "embeddings = generateEmbeddings(model=model, chuncks= chuncks)\n",
    "len(embeddings)"
   ]
  },
  {
   "cell_type": "code",
   "execution_count": 5,
   "metadata": {},
   "outputs": [
    {
     "data": {
      "text/html": [
       "<div>\n",
       "<style scoped>\n",
       "    .dataframe tbody tr th:only-of-type {\n",
       "        vertical-align: middle;\n",
       "    }\n",
       "\n",
       "    .dataframe tbody tr th {\n",
       "        vertical-align: top;\n",
       "    }\n",
       "\n",
       "    .dataframe thead th {\n",
       "        text-align: right;\n",
       "    }\n",
       "</style>\n",
       "<table border=\"1\" class=\"dataframe\">\n",
       "  <thead>\n",
       "    <tr style=\"text-align: right;\">\n",
       "      <th></th>\n",
       "      <th>ID</th>\n",
       "      <th>Resume_str</th>\n",
       "      <th>Resume_html</th>\n",
       "      <th>Category</th>\n",
       "    </tr>\n",
       "  </thead>\n",
       "  <tbody>\n",
       "    <tr>\n",
       "      <th>0</th>\n",
       "      <td>16852973</td>\n",
       "      <td>HR ADMINISTRATOR/MARKETING ASSOCIATE\\...</td>\n",
       "      <td>&lt;div class=\"fontsize fontface vmargins hmargin...</td>\n",
       "      <td>HR</td>\n",
       "    </tr>\n",
       "    <tr>\n",
       "      <th>1</th>\n",
       "      <td>22323967</td>\n",
       "      <td>HR SPECIALIST, US HR OPERATIONS      ...</td>\n",
       "      <td>&lt;div class=\"fontsize fontface vmargins hmargin...</td>\n",
       "      <td>HR</td>\n",
       "    </tr>\n",
       "    <tr>\n",
       "      <th>2</th>\n",
       "      <td>33176873</td>\n",
       "      <td>HR DIRECTOR       Summary      Over 2...</td>\n",
       "      <td>&lt;div class=\"fontsize fontface vmargins hmargin...</td>\n",
       "      <td>HR</td>\n",
       "    </tr>\n",
       "    <tr>\n",
       "      <th>3</th>\n",
       "      <td>27018550</td>\n",
       "      <td>HR SPECIALIST       Summary    Dedica...</td>\n",
       "      <td>&lt;div class=\"fontsize fontface vmargins hmargin...</td>\n",
       "      <td>HR</td>\n",
       "    </tr>\n",
       "    <tr>\n",
       "      <th>4</th>\n",
       "      <td>17812897</td>\n",
       "      <td>HR MANAGER         Skill Highlights  ...</td>\n",
       "      <td>&lt;div class=\"fontsize fontface vmargins hmargin...</td>\n",
       "      <td>HR</td>\n",
       "    </tr>\n",
       "  </tbody>\n",
       "</table>\n",
       "</div>"
      ],
      "text/plain": [
       "         ID                                         Resume_str  \\\n",
       "0  16852973           HR ADMINISTRATOR/MARKETING ASSOCIATE\\...   \n",
       "1  22323967           HR SPECIALIST, US HR OPERATIONS      ...   \n",
       "2  33176873           HR DIRECTOR       Summary      Over 2...   \n",
       "3  27018550           HR SPECIALIST       Summary    Dedica...   \n",
       "4  17812897           HR MANAGER         Skill Highlights  ...   \n",
       "\n",
       "                                         Resume_html Category  \n",
       "0  <div class=\"fontsize fontface vmargins hmargin...       HR  \n",
       "1  <div class=\"fontsize fontface vmargins hmargin...       HR  \n",
       "2  <div class=\"fontsize fontface vmargins hmargin...       HR  \n",
       "3  <div class=\"fontsize fontface vmargins hmargin...       HR  \n",
       "4  <div class=\"fontsize fontface vmargins hmargin...       HR  "
      ]
     },
     "execution_count": 5,
     "metadata": {},
     "output_type": "execute_result"
    }
   ],
   "source": [
    "data = pd.read_csv('./Resume.csv')\n",
    "data.head()"
   ]
  },
  {
   "cell_type": "code",
   "execution_count": 3,
   "metadata": {},
   "outputs": [],
   "source": []
  }
 ],
 "metadata": {
  "kernelspec": {
   "display_name": "py310",
   "language": "python",
   "name": "python3"
  },
  "language_info": {
   "codemirror_mode": {
    "name": "ipython",
    "version": 3
   },
   "file_extension": ".py",
   "mimetype": "text/x-python",
   "name": "python",
   "nbconvert_exporter": "python",
   "pygments_lexer": "ipython3",
   "version": "3.10.13"
  }
 },
 "nbformat": 4,
 "nbformat_minor": 2
}
