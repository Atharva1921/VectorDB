{
 "cells": [
  {
   "cell_type": "code",
   "execution_count": 193,
   "metadata": {},
   "outputs": [],
   "source": [
    "import pandas as pd\n",
    "import numpy as np\n",
    "from langchain_community.document_loaders import PyPDFLoader\n",
    "from langchain_text_splitters import RecursiveCharacterTextSplitter\n",
    "from sentence_transformers import SentenceTransformer\n",
    "from langchain_community.llms import Ollama\n",
    "from langchain_community.chat_models import ChatOllama\n",
    "from langchain_core.prompts import ChatPromptTemplate\n",
    "from langchain_core.output_parsers import StrOutputParser\n",
    "import os\n",
    "from tidb_vector.integrations import TiDBVectorClient\n",
    "import pymysql\n",
    "import ssl\n",
    "import json\n",
    "\n",
    "import streamlit as st\n",
    "\n",
    "from llama_index.core import SimpleDirectoryReader, StorageContext, ServiceContext\n",
    "from llama_index.core import VectorStoreIndex\n",
    "from llama_index.vector_stores.tidbvector import TiDBVectorStore\n"
   ]
  },
  {
   "cell_type": "code",
   "execution_count": 199,
   "metadata": {},
   "outputs": [
    {
     "name": "stdout",
     "output_type": "stream",
     "text": [
      "[Document(metadata={'source': './pdfs/Atharva Jadhav Resume with grades.pdf', 'page': 0}, page_content=\"ATHARVA JADHAV\\nPortfolio Website \\nGithub\\nLinkedIn\\nGmail\\nWhatsappLINKSTechnical Skills: Python, Pandas,\\nSklearn, Nltk, Sqlite, Pymongo, Pyqt6,\\nJavaScript, HTML, CSS, ReactJS,\\nNext.js, Tailwind CSS, Node.js,\\nExpress\\nSoft Skills: Problem Solving, Fast\\nLearner, Communication, TeamworkSKILLS &\\nPROFICIENCIESA dedicated and versatile IT Engineer\\nwith a strong foundation in machine\\nlearning and data science, complemented\\nby expertise in web development and\\nsoftware development across mobile and\\ndesktop platforms. Proficient in both\\nSQL and NoSQL types of databases.\\nEager to leverage technical skills and\\npassion for emerging technologies.PROFESSIONAL\\nSUMMARYSpam Message Detector\\nT he Spam Message Detector is ML model for detection\\nand filtering of spam messages in textual data.\\nLink: Spam Message Detector Demo\\nWhatsapp Chat Analyser\\nWhatsA pp Chat Analyzer is a tool designed to extract\\nvaluable insights from exported whatsapp chat files.\\nLink: Whatsapp Chat Analyser Demo\\nEmployee Management System \\nEmployee Management System is a desktop application\\nfor managing employee records.\\nLink: Employee Management System Demo\\nChatRoom\\nChatroom Website is a real-time chat application where\\nusers can create and join chatrooms for messaging.\\nLink: ChatRoom DemoPROJECTS\\nMumbai University\\nAtharva College of Engineering\\nBachelor's of Engineering in Information Technology\\nGraduation year : 2024   CGPA: 7.5\\nMJ Junior College of Science\\n12th standard (Maharashtra State Board)\\nYear of Completion: 2020   Percentage: 76%\\nSt. Johns High School  \\n10th Standard (Indian Certificate of Secondary\\nEducation Board) \\nYear of Completion: 2018   Percentage: 92%EDUCATIONDATA SCIENCE AND ML ENTHUSIAST | WEB DEVELOPER | SOFTWARE ENGINEER\\nEnglish\\nHindi\\nMarathiLANGUAGES atharvaja.10@gmail.com\\n9892409341\\nB-504, Triveni Building,\\nRajendraNager, Borivali East,\\nMumbai-400 066\")]\n",
      "ATHARVA JADHAV\n",
      "Portfolio Website \n",
      "Github\n",
      "LinkedIn\n",
      "Gmail\n",
      "WhatsappLINKSTechnical Skills: Python, Pandas,\n",
      "Sklearn, Nltk, Sqlite, Pymongo, Pyqt6,\n",
      "JavaScript, HTML, CSS, ReactJS,\n",
      "Next.js, Tailwind CSS, Node.js,\n",
      "Express\n",
      "Soft Skills: Problem Solving, Fast\n",
      "Learner, Communication, TeamworkSKILLS &\n",
      "PROFICIENCIESA dedicated and versatile IT Engineer\n",
      "with a strong foundation in machine\n",
      "learning and data science, complemented\n",
      "by expertise in web development and\n",
      "software development across mobile and\n",
      "desktop platforms. Proficient in both\n",
      "SQL and NoSQL types of databases.\n",
      "Eager to leverage technical skills and\n",
      "passion for emerging technologies.PROFESSIONAL\n",
      "SUMMARYSpam Message Detector\n",
      "T he Spam Message Detector is ML model for detection\n",
      "and filtering of spam messages in textual data.\n",
      "Link: Spam Message Detector Demo\n",
      "Whatsapp Chat Analyser\n",
      "WhatsA pp Chat Analyzer is a tool designed to extract\n",
      "valuable insights from exported whatsapp chat files.\n",
      "Link: Whatsapp Chat Analyser Demo\n",
      "Employee Management System \n",
      "Employee Management System is a desktop application\n",
      "for managing employee records.\n",
      "Link: Employee Management System Demo\n",
      "ChatRoom\n",
      "Chatroom Website is a real-time chat application where\n",
      "users can create and join chatrooms for messaging.\n",
      "Link: ChatRoom DemoPROJECTS\n",
      "Mumbai University\n",
      "Atharva College of Engineering\n",
      "Bachelor's of Engineering in Information Technology\n",
      "Graduation year : 2024   CGPA: 7.5\n",
      "MJ Junior College of Science\n",
      "12th standard (Maharashtra State Board)\n",
      "Year of Completion: 2020   Percentage: 76%\n",
      "St. Johns High School  \n",
      "10th Standard (Indian Certificate of Secondary\n",
      "Education Board) \n",
      "Year of Completion: 2018   Percentage: 92%EDUCATIONDATA SCIENCE AND ML ENTHUSIAST | WEB DEVELOPER | SOFTWARE ENGINEER\n",
      "English\n",
      "Hindi\n",
      "MarathiLANGUAGES atharvaja.10@gmail.com\n",
      "9892409341\n",
      "B-504, Triveni Building,\n",
      "RajendraNager, Borivali East,\n",
      "Mumbai-400 066\n"
     ]
    }
   ],
   "source": [
    "# reader = PdfReader(\"sample.pdf\")\n",
    "# number_of_pages = len(reader.pages)\n",
    "# page = reader.pages[0]\n",
    "# text = page.extract_text()\n",
    "# print(text)\n",
    "\n",
    "fileName = \"./pdfs/Atharva Jadhav Resume with grades.pdf\"\n",
    "\n",
    "def readPDF(name):\n",
    "\n",
    "    loader = PyPDFLoader(name)\n",
    "    pages = loader.load_and_split()\n",
    "    return pages\n",
    "\n",
    "document = readPDF(fileName)\n",
    "print(document)\n",
    "print(document[0].page_content)"
   ]
  },
  {
   "cell_type": "code",
   "execution_count": 123,
   "metadata": {},
   "outputs": [
    {
     "data": {
      "text/plain": [
       "[Document(metadata={'source': './pdfs/Atharva Jadhav Resume with grades.pdf', 'page': 0}, page_content=\"ATHARVA JADHAV\\nPortfolio Website \\nGithub\\nLinkedIn\\nGmail\\nWhatsappLINKSTechnical Skills: Python, Pandas,\\nSklearn, Nltk, Sqlite, Pymongo, Pyqt6,\\nJavaScript, HTML, CSS, ReactJS,\\nNext.js, Tailwind CSS, Node.js,\\nExpress\\nSoft Skills: Problem Solving, Fast\\nLearner, Communication, TeamworkSKILLS &\\nPROFICIENCIESA dedicated and versatile IT Engineer\\nwith a strong foundation in machine\\nlearning and data science, complemented\\nby expertise in web development and\\nsoftware development across mobile and\\ndesktop platforms. Proficient in both\\nSQL and NoSQL types of databases.\\nEager to leverage technical skills and\\npassion for emerging technologies.PROFESSIONAL\\nSUMMARYSpam Message Detector\\nT he Spam Message Detector is ML model for detection\\nand filtering of spam messages in textual data.\\nLink: Spam Message Detector Demo\\nWhatsapp Chat Analyser\\nWhatsA pp Chat Analyzer is a tool designed to extract\\nvaluable insights from exported whatsapp chat files.\\nLink: Whatsapp Chat Analyser Demo\\nEmployee Management System \\nEmployee Management System is a desktop application\\nfor managing employee records.\\nLink: Employee Management System Demo\\nChatRoom\\nChatroom Website is a real-time chat application where\\nusers can create and join chatrooms for messaging.\\nLink: ChatRoom DemoPROJECTS\\nMumbai University\\nAtharva College of Engineering\\nBachelor's of Engineering in Information Technology\\nGraduation year : 2024   CGPA: 7.5\\nMJ Junior College of Science\\n12th standard (Maharashtra State Board)\\nYear of Completion: 2020   Percentage: 76%\\nSt. Johns High School  \\n10th Standard (Indian Certificate of Secondary\\nEducation Board) \\nYear of Completion: 2018   Percentage: 92%EDUCATIONDATA SCIENCE AND ML ENTHUSIAST | WEB DEVELOPER | SOFTWARE ENGINEER\\nEnglish\\nHindi\\nMarathiLANGUAGES atharvaja.10@gmail.com\\n9892409341\\nB-504, Triveni Building,\\nRajendraNager, Borivali East,\\nMumbai-400 066\")]"
      ]
     },
     "execution_count": 123,
     "metadata": {},
     "output_type": "execute_result"
    }
   ],
   "source": [
    "def chunk_data(doc,chunk_size,chunk_overlap):\n",
    "    text_splitter = RecursiveCharacterTextSplitter(chunk_size=chunk_size,chunk_overlap=chunk_overlap)\n",
    "    chunks = text_splitter.split_documents(doc)\n",
    "    return chunks\n",
    "\n",
    "#chuncks is list which has objects in document type\n",
    "chuncks = chunk_data(document,2000,1200)\n",
    "chuncks"
   ]
  },
  {
   "cell_type": "code",
   "execution_count": 200,
   "metadata": {},
   "outputs": [
    {
     "name": "stderr",
     "output_type": "stream",
     "text": [
      "c:\\Users\\Admin\\anaconda3\\envs\\py310\\lib\\site-packages\\huggingface_hub\\file_download.py:1132: FutureWarning: `resume_download` is deprecated and will be removed in version 1.0.0. Downloads always resume when possible. If you want to force a new download, use `force_download=True`.\n",
      "  warnings.warn(\n"
     ]
    },
    {
     "name": "stdout",
     "output_type": "stream",
     "text": [
      "768 16195\n"
     ]
    }
   ],
   "source": [
    "#generate embeddings\n",
    "\n",
    "model = SentenceTransformer('all-mpnet-base-v2')\n",
    "vector_dim = (model.get_sentence_embedding_dimension())\n",
    "\n",
    "def generateEmbeddings(model,chuncks):\n",
    "\n",
    "    list_embeddings = []\n",
    "\n",
    "    for item in chuncks:\n",
    "        embedding = model.encode(item.page_content)\n",
    "        list_embeddings.append(embedding)\n",
    "\n",
    "    return list_embeddings\n",
    "\n",
    "embeddings = generateEmbeddings(model=model, chuncks= document)\n",
    "embeddings = embeddings[0]\n",
    "\n",
    "lenght = len(embeddings.tolist())\n",
    "json_legth = len(json.dumps(embeddings.tolist(),indent=None, separators=(',', ':')))\n",
    "\n",
    "print(lenght,json_legth)"
   ]
  },
  {
   "cell_type": "code",
   "execution_count": 203,
   "metadata": {},
   "outputs": [],
   "source": [
    "# CREATE TABLE resumes (\n",
    "#   id INT AUTO_INCREMENT PRIMARY KEY,\n",
    "#   name VARCHAR(255),\n",
    "#   text TEXT,\n",
    "#   embedding VECTOR(768) COMMENT \"hnsw(distance=cosine)\"\n",
    "# );\n",
    "\n",
    "vector_store = TiDBVectorClient(\n",
    "   # The table which will store the vector data.\n",
    "   table_name='resumes',\n",
    "   # The connection string to the TiDB cluster.\n",
    "   connection_string=os.environ.get('TIDB_DATABASE_URL'),\n",
    "   # The dimension of the vector generated by the embedding model.\n",
    "   vector_dimension=vector_dim,\n",
    "   # Determine whether to recreate the table if it already exists.\n",
    "   drop_existing_table=False,\n",
    "   distance_strategy=\"cosine\",\n",
    ")\n"
   ]
  },
  {
   "cell_type": "code",
   "execution_count": null,
   "metadata": {},
   "outputs": [],
   "source": [
    "storage_context = StorageContext.from_defaults(vector_store=vector_store)\n",
    "service_context = ServiceContext.from_defaults(embed_model=model)\n",
    "index = VectorStoreIndex.from_documents(storage_context=storage_context,service_context=service_context)"
   ]
  },
  {
   "cell_type": "code",
   "execution_count": 201,
   "metadata": {},
   "outputs": [],
   "source": [
    "def insert_resume(name, text, embedding):\n",
    "\n",
    "    return vector_store.execute(\"INSERT INTO resumes (name, text, embedding) VALUES (:name, :text, :embedding)\", {\"name\": name, \"text\": text, \"embedding\": embedding})\n"
   ]
  },
  {
   "cell_type": "code",
   "execution_count": 204,
   "metadata": {},
   "outputs": [
    {
     "data": {
      "text/plain": [
       "{'success': True, 'result': 1, 'error': None}"
      ]
     },
     "execution_count": 204,
     "metadata": {},
     "output_type": "execute_result"
    }
   ],
   "source": [
    "insert_resume(name=\"taha\",text=document[0].page_content,embedding= json.dumps(embeddings.tolist()))\n"
   ]
  },
  {
   "cell_type": "code",
   "execution_count": 209,
   "metadata": {},
   "outputs": [
    {
     "data": {
      "text/plain": [
       "{'success': True,\n",
       " 'result': [(1, 'Raj', \"F I R S T  L A S T\\nNew Y ork, NY | P: +44 123456789 | first.last@resumew orded.com\\nE D U C A T I O N\\nRESUME W ORDED UNIVERSITY\\nBoston, MA\\nBac he ... (3076 characters truncated) ...  R esume W orded examinations\\nA w ards:\\nR W’ s\\nT op 30 Under 30 (2011); W on R W’ s nationwide\\ncase competition out of  500+ par ticipants (2013)\", '[0.051488753,0.047326837,-0.028571593,0.018815191,0.036526896,-0.027625812,0.040093612,0.0024160955,-0.037976105,-0.0667891,0.045880403,-0.0078414995 ... (9272 characters truncated) ... 000043208096,0.022985335,-0.0006926676,0.020845126,0.02603537,0.014882525,0.001324786,0.03557316,-0.016727772,0.0071519166,-0.052198295,-0.027697802]')],\n",
       " 'error': None}"
      ]
     },
     "execution_count": 209,
     "metadata": {},
     "output_type": "execute_result"
    }
   ],
   "source": [
    "query = \"PINT OS - MODEL OPERATING SY STEMJ an 2016\"\n",
    "query_embedding = model.encode(query)\n",
    "query_embedding = json.dumps(query_embedding.tolist())\n",
    "result = vector_store.execute(\"SELECT * FROM resumes ORDER BY Vec_Cosine_Distance(embedding, :query_embedding) LIMIT 1\", {\"query_embedding\":query_embedding})\n",
    "result"
   ]
  },
  {
   "cell_type": "code",
   "execution_count": 212,
   "metadata": {},
   "outputs": [
    {
     "data": {
      "text/plain": [
       "{'success': True, 'result': 1, 'error': None}"
      ]
     },
     "execution_count": 212,
     "metadata": {},
     "output_type": "execute_result"
    }
   ],
   "source": [
    "name  = \"Raj\"\n",
    "vector_store.execute(\"DELETE FROM resumes WHERE name= :name\",{\"name\":name})"
   ]
  },
  {
   "cell_type": "code",
   "execution_count": null,
   "metadata": {},
   "outputs": [],
   "source": []
  }
 ],
 "metadata": {
  "kernelspec": {
   "display_name": "py310",
   "language": "python",
   "name": "python3"
  },
  "language_info": {
   "codemirror_mode": {
    "name": "ipython",
    "version": 3
   },
   "file_extension": ".py",
   "mimetype": "text/x-python",
   "name": "python",
   "nbconvert_exporter": "python",
   "pygments_lexer": "ipython3",
   "version": "3.10.13"
  }
 },
 "nbformat": 4,
 "nbformat_minor": 2
}
